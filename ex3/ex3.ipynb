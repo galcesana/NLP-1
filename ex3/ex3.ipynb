{
  "nbformat": 4,
  "nbformat_minor": 0,
  "metadata": {
    "colab": {
      "provenance": []
    },
    "kernelspec": {
      "name": "python3",
      "display_name": "Python 3"
    },
    "language_info": {
      "name": "python"
    }
  },
  "cells": [
    {
      "cell_type": "code",
      "execution_count": 1,
      "metadata": {
        "id": "IF5lbiHJfSAV"
      },
      "outputs": [],
      "source": [
        "import nltk\n",
        "from nltk.corpus import brown"
      ]
    },
    {
      "cell_type": "markdown",
      "source": [
        "# (a) getting data"
      ],
      "metadata": {
        "id": "I8gJbQQZfat5"
      }
    },
    {
      "cell_type": "code",
      "source": [
        "# Download the Brown corpus\n",
        "nltk.download('brown')\n",
        "\n",
        "# Load the \"news\" category and get tagged sentences\n",
        "tagged_sentences = brown.tagged_sents(categories='news')\n",
        "\n",
        "# Split into training (90%) and test (10%) sets\n",
        "split_index = int(0.9 * len(tagged_sentences))\n",
        "train_set = tagged_sentences[:split_index]\n",
        "test_set = tagged_sentences[split_index:]"
      ],
      "metadata": {
        "colab": {
          "base_uri": "https://localhost:8080/"
        },
        "id": "N9DAdSVDferX",
        "outputId": "89b48893-5c7a-46c5-8fb7-efe6e437b699"
      },
      "execution_count": 2,
      "outputs": [
        {
          "output_type": "stream",
          "name": "stderr",
          "text": [
            "[nltk_data] Downloading package brown to /root/nltk_data...\n",
            "[nltk_data]   Unzipping corpora/brown.zip.\n"
          ]
        }
      ]
    },
    {
      "cell_type": "markdown",
      "source": [
        "# MLE"
      ],
      "metadata": {
        "id": "iyh5GJ-LfiRY"
      }
    },
    {
      "cell_type": "code",
      "source": [
        "from collections import defaultdict, Counter\n",
        "\n",
        "def train_baseline(train_set, default_tag='NN', simplify_tags=True):\n",
        "    \"\"\"\n",
        "    Train a baseline model to compute the most likely tag for each word.\n",
        "\n",
        "    Parameters:\n",
        "    - train_set: List of tagged sentences (list of (word, tag) tuples).\n",
        "    - default_tag: Default tag for unknown words (default is 'NN').\n",
        "    - simplify_tags: Whether to simplify tags by removing parts after '+' or '-' (default is True).\n",
        "\n",
        "    Returns:\n",
        "    - word_to_tag: A defaultdict mapping words to their most likely tag. Default value is default_tag.\n",
        "    \"\"\"\n",
        "    # Create a dictionary to count tags for each word\n",
        "    tag_count = defaultdict(Counter)\n",
        "\n",
        "    # Count occurrences of each (word, tag) pair in the training set\n",
        "    for sentence in train_set:\n",
        "        for word, tag in sentence:\n",
        "            word = word.lower()  # Convert words to lowercase for consistency\n",
        "            if simplify_tags:\n",
        "                # Simplify complex tags by splitting on '+' or '-'\n",
        "                tag = tag.split('+')[0].split('-')[0]\n",
        "            tag_count[word][tag] += 1\n",
        "\n",
        "    # Compute the most likely tag for each word\n",
        "    word_to_tag = defaultdict(lambda: default_tag)  # Default tag for unknown words\n",
        "    for word, tags in tag_count.items():\n",
        "        word_to_tag[word] = max(tags, key=tags.get)  # Select the most frequent tag\n",
        "\n",
        "    return word_to_tag"
      ],
      "metadata": {
        "id": "FHy6wZsAfkUf"
      },
      "execution_count": 3,
      "outputs": []
    },
    {
      "cell_type": "markdown",
      "source": [
        "# Evaluation"
      ],
      "metadata": {
        "id": "vZgR50OOfuGT"
      }
    },
    {
      "cell_type": "code",
      "source": [
        "def evaluate_baseline(test_set, most_likely_tags, unknown_tag=\"NN\", simplify_tags=True):\n",
        "    \"\"\"\n",
        "    Evaluate a baseline POS tagger on a test set.\n",
        "\n",
        "    Parameters:\n",
        "    - test_set: List of tagged sentences (list of (word, tag) tuples).\n",
        "    - most_likely_tags: Dictionary or defaultdict mapping words to their most likely tag.\n",
        "    - unknown_tag: Default tag for unknown words (default is 'NN').\n",
        "    - simplify_tags: Whether to simplify tags by removing parts after '+' or '-' (default is True).\n",
        "\n",
        "    Returns:\n",
        "    - A dictionary with error rates:\n",
        "        - \"Known Error Rate\": Error rate for known words.\n",
        "        - \"Unknown Error Rate\": Error rate for unknown words.\n",
        "        - \"Total Error Rate\": Overall error rate.\n",
        "    \"\"\"\n",
        "    # Initialize counters\n",
        "    known_error, unknown_error, total_error = 0, 0, 0\n",
        "    known_count, unknown_count, total_count = 0, 0, 0\n",
        "\n",
        "    for sentence in test_set:\n",
        "        for word, true_tag in sentence:\n",
        "            word = word.lower()  # Normalize word case\n",
        "            if simplify_tags:\n",
        "                # Simplify tags to remove modifiers\n",
        "                true_tag = true_tag.split('+')[0].split('-')[0]\n",
        "\n",
        "            # Get predicted tag, defaulting to `unknown_tag` for unknown words\n",
        "            predicted_tag = most_likely_tags.get(word, unknown_tag)\n",
        "\n",
        "            # Check if word is known or unknown\n",
        "            if word in most_likely_tags:\n",
        "                known_count += 1\n",
        "                if predicted_tag != true_tag:\n",
        "                    known_error += 1\n",
        "            else:\n",
        "                unknown_count += 1\n",
        "                if predicted_tag != true_tag:\n",
        "                    unknown_error += 1\n",
        "\n",
        "            # Update total counters\n",
        "            total_count += 1\n",
        "            if predicted_tag != true_tag:\n",
        "                total_error += 1\n",
        "\n",
        "    # Safeguard against division by zero\n",
        "    known_error_rate = known_error / known_count if known_count > 0 else 0\n",
        "    unknown_error_rate = unknown_error / unknown_count if unknown_count > 0 else 0\n",
        "    total_error_rate = total_error / total_count if total_count > 0 else 0\n",
        "\n",
        "    return {\n",
        "        \"Known Error Rate\": known_error_rate,\n",
        "        \"Unknown Error Rate\": unknown_error_rate,\n",
        "        \"Total Error Rate\": total_error_rate,\n",
        "    }\n"
      ],
      "metadata": {
        "id": "0mhsgw_TftjY"
      },
      "execution_count": 4,
      "outputs": []
    },
    {
      "cell_type": "markdown",
      "source": [
        "# b"
      ],
      "metadata": {
        "id": "i40fJ33Ug34K"
      }
    },
    {
      "cell_type": "code",
      "source": [
        "most_likely_tags = train_baseline(train_set)\n",
        "baseline_results = evaluate_baseline(test_set, most_likely_tags)\n",
        "print(\"\\nBaseline Results:\")\n",
        "for key in baseline_results.keys():\n",
        "    print(key,\" = \", baseline_results[key])"
      ],
      "metadata": {
        "colab": {
          "base_uri": "https://localhost:8080/"
        },
        "id": "poU20b8df2iI",
        "outputId": "0cdd2aa0-382f-4b97-b6d6-50afdde7e305"
      },
      "execution_count": 6,
      "outputs": [
        {
          "output_type": "stream",
          "name": "stdout",
          "text": [
            "\n",
            "Baseline Results:\n",
            "Known Error Rate  =  0.07130937812882412\n",
            "Unknown Error Rate  =  0.7739463601532567\n",
            "Total Error Rate  =  0.14442340277085616\n"
          ]
        }
      ]
    },
    {
      "cell_type": "markdown",
      "source": [
        "# (b) bigram HMM tagger"
      ],
      "metadata": {
        "id": "qKrUu9b8gEWL"
      }
    },
    {
      "cell_type": "code",
      "source": [
        "from collections import defaultdict, Counter\n",
        "import numpy as np\n",
        "\n",
        "def train_bigram(train_set, smoothing=False):\n",
        "    # Transition probabilities\n",
        "    transitions = defaultdict(Counter)\n",
        "    emissions = defaultdict(Counter)\n",
        "\n",
        "    for sentence in train_set:\n",
        "        prev_tag = \"<START>\"\n",
        "        for word, tag in sentence:\n",
        "            word = word.lower()\n",
        "            if '+' in tag or '-' in tag:\n",
        "                tag = tag.split('+')[0].split('-')[0]\n",
        "            transitions[prev_tag][tag] += 1\n",
        "            emissions[tag][word] += 1\n",
        "            prev_tag = tag\n",
        "        transitions[prev_tag][\"<END>\"] += 1\n",
        "\n",
        "    # Normalize probabilities with or without smoothing\n",
        "    if not smoothing:\n",
        "        # Without smoothing\n",
        "        transition_probs = {prev_tag: {tag: count / sum(tags.values()) for tag, count in tags.items()} for\n",
        "                            prev_tag, tags in transitions.items()}\n",
        "        emission_probs = {tag: {word: count / sum(words.values()) for word, count in words.items()} for\n",
        "                          tag, words in emissions.items()}\n",
        "    else:\n",
        "        # Vocabulary: all unique words in the training set\n",
        "        vocab = {word.lower() for sentence in train_set for word, _ in sentence}\n",
        "\n",
        "        # With Add-One smoothing\n",
        "        tags = list(emissions.keys())\n",
        "\n",
        "        # Transition probabilities with smoothing\n",
        "        transition_probs = {\n",
        "            prev_tag: {\n",
        "                tag: (count + 1) / (sum(tags.values()) + len(emissions))\n",
        "                for tag, count in tags.items()\n",
        "            }\n",
        "            for prev_tag, tags in transitions.items()\n",
        "        }\n",
        "        # Add unseen tags in the transition probabilities\n",
        "        for prev_tag in transitions:\n",
        "            for tag in tags:\n",
        "                if tag not in transition_probs[prev_tag]:\n",
        "                    transition_probs[prev_tag][tag] = 1 / (sum(transitions[prev_tag].values()) + len(emissions))\n",
        "        # Emission probabilities with smoothing\n",
        "        emission_probs = {\n",
        "            tag: {\n",
        "                word: (count + 1) / (sum(words.values()) + len(vocab))\n",
        "                for word, count in words.items()\n",
        "            }\n",
        "            for tag, words in emissions.items()\n",
        "        }\n",
        "        # Add unseen words in the emission probabilities\n",
        "        for tag in emissions:\n",
        "            for word in vocab:\n",
        "                if word not in emission_probs[tag]:\n",
        "                    emission_probs[tag][word] = 1 / (sum(emissions[tag].values()) + len(vocab))\n",
        "\n",
        "    return transition_probs, emission_probs"
      ],
      "metadata": {
        "id": "XIneAusHgAIM"
      },
      "execution_count": 7,
      "outputs": []
    },
    {
      "cell_type": "code",
      "source": [
        "def viterbi(test_set, transition_probs, emission_probs, unknown_tag=\"NN\"):\n",
        "    results = []\n",
        "    tags = list(emission_probs.keys())\n",
        "\n",
        "    for sentence in test_set:\n",
        "        words = [word.lower() for word, _ in sentence]\n",
        "        n = len(words)\n",
        "\n",
        "        # Initialize DP table\n",
        "        dp = np.zeros((n, len(tags)))\n",
        "        bp = np.zeros((n, len(tags)), dtype=int)\n",
        "\n",
        "        # Initialization\n",
        "        for j, tag in enumerate(tags):\n",
        "            dp[0, j] = transition_probs.get(\"<START>\", {}).get(tag, 0) * emission_probs.get(tag, {}).get(words[0], 1e-6)\n",
        "\n",
        "        # Recursion\n",
        "        for i in range(1, n):\n",
        "            for j, tag in enumerate(tags):\n",
        "                max_prob, max_idx = max(\n",
        "                    (dp[i - 1, k] * transition_probs.get(tags[k], {}).get(tag, 0) * emission_probs.get(tag, {}).get(words[i], 1e-6), k)\n",
        "                    for k in range(len(tags))\n",
        "                )\n",
        "                dp[i, j] = max_prob\n",
        "                bp[i, j] = max_idx\n",
        "\n",
        "        # Termination\n",
        "        max_prob, max_idx = max((dp[n - 1, j] * transition_probs.get(tags[j], {}).get(\"<END>\", 0), j) for j in range(len(tags)))\n",
        "        best_path = [max_idx]\n",
        "\n",
        "        # Backtrack\n",
        "        for i in range(n - 1, 0, -1):\n",
        "            best_path.append(bp[i, best_path[-1]])\n",
        "\n",
        "        best_path.reverse()\n",
        "        results.append([(words[i], tags[best_path[i]]) for i in range(n)])\n",
        "\n",
        "    return results"
      ],
      "metadata": {
        "id": "7Re390DigcsH"
      },
      "execution_count": 8,
      "outputs": []
    },
    {
      "cell_type": "markdown",
      "source": [
        "# (c) bigram HMM tagger"
      ],
      "metadata": {
        "id": "rFlZhToug0eN"
      }
    },
    {
      "cell_type": "code",
      "source": [
        "    print(\"\\nHMM Tagger Results:\")\n",
        "    print(\"Training...\")\n",
        "    transition_probs, emission_probs = train_bigram(train_set)\n",
        "    print(\"Evaluating using viterbi..\")\n",
        "    hmm_results = viterbi(test_set, transition_probs, emission_probs)\n",
        "    print(\"Calculating results..\")\n",
        "    hmm_error_rate = evaluate_baseline(hmm_results, most_likely_tags)  # Reuse evaluation method\n",
        "    for key in hmm_error_rate.keys():\n",
        "        print(key,\" = \", hmm_error_rate[key])"
      ],
      "metadata": {
        "colab": {
          "base_uri": "https://localhost:8080/"
        },
        "id": "GFP122VtgjAf",
        "outputId": "9c4e7777-ca6d-4a66-9733-b8115e01e663"
      },
      "execution_count": 9,
      "outputs": [
        {
          "output_type": "stream",
          "name": "stdout",
          "text": [
            "\n",
            "HMM Tagger Results:\n",
            "Training...\n",
            "Evaluating using viterbi..\n",
            "Calculating results..\n",
            "Known Error Rate  =  0.06530203582155969\n",
            "Unknown Error Rate  =  0.6408045977011494\n",
            "Total Error Rate  =  0.12518688328515898\n"
          ]
        }
      ]
    },
    {
      "cell_type": "markdown",
      "source": [
        "# (d) Add-one smoothing"
      ],
      "metadata": {
        "id": "y7scK5OBhCDH"
      }
    },
    {
      "cell_type": "code",
      "source": [
        "    print(\"\\nHMM Tagger Results:\")\n",
        "    print(\"Training...\")\n",
        "    transition_probs, emission_probs = train_bigram(train_set, smoothing=True)\n",
        "    print(\"Evaluating using viterbi..\")\n",
        "    hmm_results = viterbi(test_set, transi  tion_probs, emission_probs)\n",
        "    print(\"Calculating results..\")\n",
        "    hmm_error_rate = evaluate_baseline(hmm_results, most_likely_tags)  # Reuse evaluation method\n",
        "    for key in hmm_error_rate.keys():\n",
        "        print(key,\" = \", hmm_error_rate[key])"
      ],
      "metadata": {
        "colab": {
          "base_uri": "https://localhost:8080/"
        },
        "id": "Wz2vxrPthF6o",
        "outputId": "6c9a9616-4d00-4c20-e18d-b09798d36db8"
      },
      "execution_count": 10,
      "outputs": [
        {
          "output_type": "stream",
          "name": "stdout",
          "text": [
            "\n",
            "HMM Tagger Results:\n",
            "Training...\n",
            "Evaluating using viterbi..\n",
            "Calculating results..\n",
            "Known Error Rate  =  0.1551896762709979\n",
            "Unknown Error Rate  =  0.5852490421455939\n",
            "Total Error Rate  =  0.19994019734874913\n"
          ]
        }
      ]
    },
    {
      "cell_type": "markdown",
      "source": [
        "# (e) Using psuedo-words"
      ],
      "metadata": {
        "id": "BHivZda1iLi2"
      }
    },
    {
      "cell_type": "code",
      "source": [
        "# Define pseudo-words for unknown and low-frequency words\n",
        "def assign_pseudo_word(word):\n",
        "    if word.isdigit():\n",
        "        return \"<NUMERIC>\"\n",
        "    elif word.isupper():\n",
        "        return \"<ALLCAPS>\"\n",
        "    elif word.istitle():\n",
        "        return \"<INITCAP>\"\n",
        "    elif \"-\" in word:\n",
        "        return \"<HYPHEN>\"\n",
        "    elif any(char.isdigit() for char in word):\n",
        "        return \"<ALPHANUMERIC>\"\n",
        "    elif len(word) <= 3:\n",
        "        return \"<SHORT>\"\n",
        "    else:\n",
        "        return \"<UNKNOWN>\"\n",
        "\n",
        "# Update the training data with pseudo-words for low-frequency words\n",
        "def preprocess_train_data(train_set, freq_threshold=1):\n",
        "    word_counts = Counter(word.lower() for sentence in train_set for word, _ in sentence)\n",
        "    processed_train_set = []\n",
        "    for sentence in train_set:\n",
        "        processed_sentence = []\n",
        "        for word, tag in sentence:\n",
        "            word_lower = word.lower()\n",
        "            if word_counts[word_lower] <= freq_threshold:\n",
        "                word = assign_pseudo_word(word)\n",
        "            processed_sentence.append((word, tag))\n",
        "        processed_train_set.append(processed_sentence)\n",
        "    return processed_train_set\n",
        "\n",
        "# Update the test data with pseudo-words for unknown words\n",
        "def preprocess_test_data(test_set, known_words):\n",
        "    processed_test_set = []\n",
        "    for sentence in test_set:\n",
        "        processed_sentence = []\n",
        "        for word, tag in sentence:\n",
        "            word_lower = word.lower()\n",
        "            if word_lower not in known_words:\n",
        "                word = assign_pseudo_word(word)\n",
        "            processed_sentence.append((word, tag))\n",
        "        processed_test_set.append(processed_sentence)\n",
        "    return processed_test_set\n"
      ],
      "metadata": {
        "id": "T5o69ZExidjh"
      },
      "execution_count": 20,
      "outputs": []
    },
    {
      "cell_type": "code",
      "source": [
        "# Updated Viterbi to handle pseudo-words\n",
        "def viterbi_with_pseudo(test_set, transition_probs, emission_probs, known_words, unknown_tag=\"NN\"):\n",
        "    results = []\n",
        "    tags = list(emission_probs.keys())\n",
        "\n",
        "    for sentence in test_set:\n",
        "        words = [word.lower() for word, _ in sentence]\n",
        "        words = [word if word in known_words else assign_pseudo_word(word) for word in words]\n",
        "        n = len(words)\n",
        "\n",
        "        # Initialize DP table\n",
        "        dp = np.zeros((n, len(tags)))\n",
        "        bp = np.zeros((n, len(tags)), dtype=int)\n",
        "\n",
        "        # Initialization\n",
        "        for j, tag in enumerate(tags):\n",
        "            dp[0, j] = transition_probs.get(\"<START>\", {}).get(tag, 0) * emission_probs.get(tag, {}).get(words[0], 1e-6)\n",
        "\n",
        "        # Recursion\n",
        "        for i in range(1, n):\n",
        "            for j, tag in enumerate(tags):\n",
        "                max_prob, max_idx = max(\n",
        "                    (dp[i - 1, k] * transition_probs.get(tags[k], {}).get(tag, 0) * emission_probs.get(tag, {}).get(words[i], 1e-6), k)\n",
        "                    for k in range(len(tags))\n",
        "                )\n",
        "                dp[i, j] = max_prob\n",
        "                bp[i, j] = max_idx\n",
        "\n",
        "        # Termination\n",
        "        max_prob, max_idx = max((dp[n - 1, j] * transition_probs.get(tags[j], {}).get(\"<END>\", 0), j) for j in range(len(tags)))\n",
        "        best_path = [max_idx]\n",
        "\n",
        "        # Backtrack\n",
        "        for i in range(n - 1, 0, -1):\n",
        "            best_path.append(bp[i, best_path[-1]])\n",
        "\n",
        "        best_path.reverse()\n",
        "        results.append([(words[i], tags[best_path[i]]) for i in range(n)])\n",
        "\n",
        "    return results\n",
        "\n",
        "def evaluate_viterbi_results(test_set, predicted_results):\n",
        "    \"\"\"\n",
        "    Evaluate Viterbi results by comparing predicted tags with true tags.\n",
        "\n",
        "    Parameters:\n",
        "    - test_set: List of tagged sentences (list of (word, tag) tuples).\n",
        "    - predicted_results: List of tagged sentences predicted by Viterbi.\n",
        "\n",
        "    Returns:\n",
        "    - A dictionary with error rates:\n",
        "        - \"Known Error Rate\": Error rate for known words.\n",
        "        - \"Unknown Error Rate\": Error rate for unknown words.\n",
        "        - \"Total Error Rate\": Overall error rate.\n",
        "    \"\"\"\n",
        "    known_error, unknown_error, total_error = 0, 0, 0\n",
        "    known_count, unknown_count, total_count = 0, 0, 0\n",
        "\n",
        "    for true_sentence, predicted_sentence in zip(test_set, predicted_results):\n",
        "        for (true_word, true_tag), (_, predicted_tag) in zip(true_sentence, predicted_sentence):\n",
        "            true_word_lower = true_word.lower()\n",
        "            # Determine if the word is known or unknown\n",
        "            if true_word_lower in known_words:\n",
        "                known_count += 1\n",
        "                if true_tag != predicted_tag:\n",
        "                    known_error += 1\n",
        "            else:\n",
        "                unknown_count += 1\n",
        "                if true_tag != predicted_tag:\n",
        "                    unknown_error += 1\n",
        "\n",
        "            # Update total counters\n",
        "            total_count += 1\n",
        "            if true_tag != predicted_tag:\n",
        "                total_error += 1\n",
        "\n",
        "    # Safeguard against division by zero\n",
        "    known_error_rate = known_error / known_count if known_count > 0 else 0\n",
        "    unknown_error_rate = unknown_error / unknown_count if unknown_count > 0 else 0\n",
        "    total_error_rate = total_error / total_count if total_count > 0 else 0\n",
        "\n",
        "    return {\n",
        "        \"Known Error Rate\": known_error_rate,\n",
        "        \"Unknown Error Rate\": unknown_error_rate,\n",
        "        \"Total Error Rate\": total_error_rate,\n",
        "    }\n",
        "\n"
      ],
      "metadata": {
        "id": "es-WxLmPqtZt"
      },
      "execution_count": 26,
      "outputs": []
    },
    {
      "cell_type": "code",
      "source": [
        "# Preprocess training data with pseudo-words\n",
        "processed_train_set = preprocess_train_data(train_set, freq_threshold=1)\n",
        "\n",
        "# Extract known words from the processed training set\n",
        "known_words = set(word.lower() for sentence in processed_train_set for word, _ in sentence)\n",
        "\n",
        "# Preprocess test data with pseudo-words\n",
        "processed_test_set = preprocess_test_data(test_set, known_words)\n"
      ],
      "metadata": {
        "id": "1jAuoj1jq8iP"
      },
      "execution_count": 22,
      "outputs": []
    },
    {
      "cell_type": "code",
      "source": [
        "# Train the bigram HMM using the processed training data without smoothing\n",
        "transition_probs, emission_probs = train_bigram(processed_train_set, smoothing=False)\n",
        "\n",
        "# Run the Viterbi algorithm with pseudo-words on the test set\n",
        "viterbi_results_mle = viterbi_with_pseudo(processed_test_set, transition_probs, emission_probs, known_words)"
      ],
      "metadata": {
        "id": "L8rgDAkjq9j4"
      },
      "execution_count": 27,
      "outputs": []
    },
    {
      "cell_type": "code",
      "source": [
        "# Evaluate the error rates for the results\n",
        "error_rates_mle = evaluate_viterbi_results(test_set, viterbi_results_mle)\n",
        "print(\"Error rates with pseudo-words and maximum likelihood estimation:\")\n",
        "for key, value in error_rates_mle.items():\n",
        "    print(f\"{key}: {value}\")\n"
      ],
      "metadata": {
        "colab": {
          "base_uri": "https://localhost:8080/"
        },
        "id": "zts3XIqxsBcN",
        "outputId": "de877b75-a9e5-4431-d96c-a3d0f248b29f"
      },
      "execution_count": 28,
      "outputs": [
        {
          "output_type": "stream",
          "name": "stdout",
          "text": [
            "Error rates with pseudo-words and maximum likelihood estimation:\n",
            "Known Error Rate: 0.07586367880485527\n",
            "Unknown Error Rate: 0.5160409556313993\n",
            "Total Error Rate: 0.140137546097877\n"
          ]
        }
      ]
    },
    {
      "cell_type": "code",
      "source": [
        "# Train the bigram HMM using the processed training data with Add-One smoothing\n",
        "transition_probs_smooth, emission_probs_smooth = train_bigram(processed_train_set, smoothing=True)\n",
        "\n",
        "# Run the Viterbi algorithm with pseudo-words on the test set\n",
        "viterbi_results_smooth = viterbi_with_pseudo(processed_test_set, transition_probs_smooth, emission_probs_smooth, known_words)"
      ],
      "metadata": {
        "id": "1PMhGdJYq_KK"
      },
      "execution_count": 30,
      "outputs": []
    },
    {
      "cell_type": "code",
      "source": [
        "# Evaluate the error rates for the results\n",
        "error_rates_smooth = evaluate_viterbi_results(test_set, viterbi_results_smooth)\n",
        "print(\"Error rates with pseudo-words and Add-One smoothing:\")\n",
        "for key, value in error_rates_smooth.items():\n",
        "    print(f\"{key}: {value}\")"
      ],
      "metadata": {
        "colab": {
          "base_uri": "https://localhost:8080/"
        },
        "id": "aA_vGrPGs2pd",
        "outputId": "8c311e5a-5f06-49ef-d2c0-f44cded8b605"
      },
      "execution_count": 31,
      "outputs": [
        {
          "output_type": "stream",
          "name": "stdout",
          "text": [
            "Error rates with pseudo-words and Add-One smoothing:\n",
            "Known Error Rate: 0.1469421101774043\n",
            "Unknown Error Rate: 0.5365187713310581\n",
            "Total Error Rate: 0.20382736968005583\n"
          ]
        }
      ]
    },
    {
      "cell_type": "code",
      "source": [
        "import numpy as np\n",
        "import matplotlib.pyplot as plt\n",
        "from sklearn.metrics import ConfusionMatrixDisplay\n",
        "from collections import Counter\n",
        "\n",
        "def plot_top_n_confusion_matrix(true_tags, predicted_tags, n=10):\n",
        "    \"\"\"\n",
        "    Plot a confusion matrix for the top N most frequent tags.\n",
        "\n",
        "    Parameters:\n",
        "    - true_tags: List of true POS tags.\n",
        "    - predicted_tags: List of predicted POS tags.\n",
        "    - n: Number of top tags to display.\n",
        "    \"\"\"\n",
        "    # Count occurrences of each tag\n",
        "    tag_counts = Counter(true_tags)\n",
        "    top_tags = [tag for tag, _ in tag_counts.most_common(n)]\n",
        "\n",
        "    # Filter only the top N tags for both true and predicted tags\n",
        "    filtered_true_tags = [tag if tag in top_tags else 'OTHER' for tag in true_tags]\n",
        "    filtered_predicted_tags = [tag if tag in top_tags else 'OTHER' for tag in predicted_tags]\n",
        "\n",
        "    # Generate the confusion matrix\n",
        "    cm_labels = top_tags + ['OTHER']\n",
        "    cm = confusion_matrix(filtered_true_tags, filtered_predicted_tags, labels=cm_labels)\n",
        "\n",
        "    # Plot the confusion matrix\n",
        "    plt.figure(figsize=(10, 8))\n",
        "    disp = ConfusionMatrixDisplay(confusion_matrix=cm, display_labels=cm_labels)\n",
        "    disp.plot(cmap='Blues', xticks_rotation='horizontal', ax=plt.gca())\n",
        "    plt.title(f\"Confusion Matrix for Top {n} Tags\")\n",
        "    plt.tight_layout()\n",
        "    plt.show()\n",
        "\n",
        "# Use the top 10 tags\n",
        "plot_top_n_confusion_matrix(true_tags, predicted_tags, n=10)"
      ],
      "metadata": {
        "colab": {
          "base_uri": "https://localhost:8080/",
          "height": 807
        },
        "id": "mohd_HqvrCDp",
        "outputId": "019d24da-d242-4211-e354-2c94468a693c"
      },
      "execution_count": 34,
      "outputs": [
        {
          "output_type": "display_data",
          "data": {
            "text/plain": [
              "<Figure size 1000x800 with 2 Axes>"
            ],
            "image/png": "[encoded data removed]"
          },
          "metadata": {}
        }
      ]
    }
  ]
}